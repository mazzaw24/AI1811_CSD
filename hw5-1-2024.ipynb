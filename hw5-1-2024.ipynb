{
 "cells": [
  {
   "cell_type": "code",
   "execution_count": 7,
   "id": "40943bd4-2f4b-4687-8fc8-8a5df2e1a824",
   "metadata": {
    "tags": []
   },
   "outputs": [
    {
     "name": "stdin",
     "output_type": "stream",
     "text": [
      "Enter values of the array:  4\n",
      "Enter element 1:  1\n",
      "Enter element 2:  2\n",
      "Enter element 3:  8\n",
      "Enter element 4:  5\n"
     ]
    },
    {
     "name": "stdout",
     "output_type": "stream",
     "text": [
      "The position of the element nearest to the average is: 4\n"
     ]
    }
   ],
   "source": [
    "#Problem 1\n",
    "n = int(input(\"Enter values of the array: \"))\n",
    "\n",
    "arr = []\n",
    "for i in range(n):\n",
    "    arr.append(float(input(f\"Enter element {i + 1}: \")))\n",
    "\n",
    "average = sum(arr) / len(arr)\n",
    "\n",
    "nearest_value = min(arr, key=lambda x: abs(x - average))\n",
    "\n",
    "position = arr.index(nearest_value) + 1  # Adding 1 to convert from zero-based index to one-based index\n",
    "\n",
    "print(f\"The position of the element nearest to the average is: {position}\")\n"
   ]
  },
  {
   "cell_type": "code",
   "execution_count": 3,
   "id": "48c8b05d-50c3-4ff0-b4eb-4474ccf5648f",
   "metadata": {},
   "outputs": [
    {
     "name": "stdin",
     "output_type": "stream",
     "text": [
      "Enter the grade in decimal system:  6.8\n"
     ]
    },
    {
     "name": "stdout",
     "output_type": "stream",
     "text": [
      "the corresponding grade in alphabetic: C\n",
      "the corresponding grade in 4th system: 2\n"
     ]
    }
   ],
   "source": [
    "#Problem 2\n",
    "def a_den_f(diem):\n",
    "    if diem >= 8.5 and diem <= 10:\n",
    "        return 'A'\n",
    "    if diem >= 7 and diem <= 8.4:\n",
    "        return 'B'\n",
    "    if diem >= 5.5 and diem <= 6.9:\n",
    "        return 'C'\n",
    "    if diem >= 4 and diem <= 5.4:\n",
    "        return 'D'\n",
    "    if diem >= 0 and diem < 4:\n",
    "        return 'F'\n",
    "    \n",
    "def gpa(diem):\n",
    "    if diem >= 8.5 and diem <= 10:\n",
    "        return '4'\n",
    "    if diem >= 7 and diem <= 8.4:\n",
    "        return '3'\n",
    "    if diem >= 5.5 and diem <= 6.9:\n",
    "        return '2'\n",
    "    if diem >= 4 and diem <= 5.4:\n",
    "        return '1'\n",
    "    if diem >= 0 and diem < 4:\n",
    "        return '0'\n",
    "    \n",
    "try:\n",
    "    n = float(input(\"Enter the grade in decimal system: \"))\n",
    "    if n >= 0 and n <= 10:\n",
    "        chucai = a_den_f(n)\n",
    "        gpa = gpa(n)\n",
    "        print(f\"the corresponding grade in alphabetic: {chucai}\")\n",
    "        print(f\"the corresponding grade in 4th system: {gpa}\")\n",
    "    else:\n",
    "        print(\"Grade must be from 0 to 10 !\")\n",
    "except ValueError:\n",
    "    print(\"Please enter a valid grade !\")\n",
    "    "
   ]
  },
  {
   "cell_type": "code",
   "execution_count": 6,
   "id": "a04a8e85-bfef-4582-8ad4-b3609df1a23b",
   "metadata": {
    "tags": []
   },
   "outputs": [
    {
     "name": "stdin",
     "output_type": "stream",
     "text": [
      "enter values of the array:  5\n",
      "Enter element 1:  1\n",
      "Enter element 2:  2\n",
      "Enter element 3:  2\n",
      "Enter element 4:  3\n",
      "Enter element 5:  3\n"
     ]
    },
    {
     "name": "stdout",
     "output_type": "stream",
     "text": [
      "1 2 3\n"
     ]
    }
   ],
   "source": [
    "#Problem 3\n",
    "n = int(input(\"enter values of the array: \"))\n",
    "\n",
    "arr = []\n",
    "for i in range(n):\n",
    "    arr.append(float(input(f\"Enter element {i + 1}: \")))\n",
    "\n",
    "s = set()\n",
    "result = []\n",
    "\n",
    "for i in arr:\n",
    "    if i not in s:\n",
    "        result.append(str(int(i)))\n",
    "        s.add(int(i))\n",
    "\n",
    "dapan = \" \".join(result)\n",
    "print(dapan)"
   ]
  },
  {
   "cell_type": "code",
   "execution_count": null,
   "id": "48e3b6a5-413b-4b98-8433-fa606761fbea",
   "metadata": {},
   "outputs": [],
   "source": []
  }
 ],
 "metadata": {
  "kernelspec": {
   "display_name": "Python 3 (ipykernel)",
   "language": "python",
   "name": "python3"
  },
  "language_info": {
   "codemirror_mode": {
    "name": "ipython",
    "version": 3
   },
   "file_extension": ".py",
   "mimetype": "text/x-python",
   "name": "python",
   "nbconvert_exporter": "python",
   "pygments_lexer": "ipython3",
   "version": "3.11.5"
  }
 },
 "nbformat": 4,
 "nbformat_minor": 5
}
